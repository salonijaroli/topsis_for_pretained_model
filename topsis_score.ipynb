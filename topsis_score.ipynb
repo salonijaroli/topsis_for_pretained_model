{
 "cells": [
  {
   "cell_type": "code",
   "execution_count": null,
   "metadata": {},
   "outputs": [],
   "source": [
    "import pandas as pd\n",
    "import numpy as np\n",
    "from sentence_transformers import SentenceTransformer\n",
    "from sklearn.metrics.pairwise import cosine_similarity\n",
    "\n",
    "model_names = [\n",
    "    "hackathon-pln-es/paraphrase-spanish-distilroberta",
         "sentence-transformers/msmarco-distilbert-dot-v5",
         "sentence-transformers/paraphrase-albert-base-v2"
    "]\n",
    "\n",
    "parameters = [\"cosine_similarity\", \"euclidean_distance\", \"manhattan_distance\", \"minkowski_distance\", \"correlation_coefficient\"]\n",
    "\n",
    "data = []\n",
    "\n",
    "paragraph1 = \"\"\"\n",
    "In the quietude of dawn, a gentle breeze whispers through the rustling leaves, harmonizing with the melodies of waking birds. Nature unfolds its tranquil beauty, revealing a serene canvas of dawn's embrace.\n",
    "\"\"\"\n",
    "\n",
    "paragraph2 = \"\"\"\n",
    "\n",
    "In the hushed stillness of twilight, a soft zephyr caresses the leaves, blending with the songs of stirring creatures. The natural tableau unfolds, exposing a tranquil panorama bathed in the gentle cradle of dusk's allure.\n",
    "\"\"\"\n",
    "\n",
    "for model_name in model_names:\n",
    "    model = SentenceTransformer(model_name)\n",
    "\n",
    "    cosine_sim = cosine_similarity(model.encode([paragraph1]), model.encode([paragraph2]))[0][0]\n",
    "    euclidean_dist = np.linalg.norm(model.encode([paragraph1]) - model.encode([paragraph2]))\n",
    "    manhattan_dist = np.abs(model.encode([paragraph1]) - model.encode([paragraph2])).sum()\n",
    "    minkowski_dist = np.power(np.power(np.abs(model.encode([paragraph1]) - model.encode([paragraph2])), 3).sum(), 1/3)\n",
    "    jaccard_sim = len(set(paragraph1.split()) & set(paragraph2.split())) / len(set(paragraph1.split()) | set(paragraph2.split()))\n",
    "    correlation_coeff = np.corrcoef(model.encode([paragraph1])[0], model.encode([paragraph2])[0])[0, 1]\n",
    "\n",
    "    parameter_values = [cosine_sim, euclidean_dist, manhattan_dist, minkowski_dist, correlation_coeff]\n",
    "\n",
    "    data.append([model_name] + parameter_values)\n",
    "\n",
    "columns = [\"Model\"] + parameters\n",
    "df = pd.DataFrame(data, columns=columns)\n",
    "\n",
    "df_normalized = df.copy()\n",
    "for param in parameters:\n",
    "    df_normalized[param] = (df[param] - df[param].min()) / (df[param].max() - df[param].min())\n",
    "\n",
    "criteria_weights = [1] * len(parameters)\n",
    "\n",
    "weighted_normalized_matrix = df_normalized.iloc[:, 1:] * criteria_weights\n",
    "\n",
    "positive_ideal_solution = weighted_normalized_matrix.max(axis=0)\n",
    "negative_ideal_solution = weighted_normalized_matrix.min(axis=0)\n",
    "\n",
    "distance_positive_ideal = np.linalg.norm(weighted_normalized_matrix - positive_ideal_solution, axis=1)\n",
    "distance_negative_ideal = np.linalg.norm(weighted_normalized_matrix - negative_ideal_solution, axis=1)\n",
    "\n",
    "df_normalized[\"TOPSIS_Score\"] = df_normalized.apply(lambda row: np.sqrt(np.sum((row - positive_ideal_solution) ** 2)), axis=1)\n",
    "\n",
    "df_ranked = df_normalized.sort_values(by=\"TOPSIS_Score\", ascending=False).reset_index(drop=True)\n",
    "\n",
    "df_ranked.to_csv(\"topsis_results.csv\", index=False)\n",
    "\n",
    "print(\"Results saved to 'results.csv'\")"
   ]
  },
  {
   "cell_type": "code",
   "execution_count": null,
   "metadata": {},
   "outputs": [],
   "source": [
    "df_ranked.head()"
   ]
  },
  {
   "cell_type": "code",
   "execution_count": null,
   "metadata": {},
   "outputs": [],
   "source": [
    "df_ranked[\"Topsis_rank\"]=df_ranked[\"TOPSIS_Score\"].rank(method=\"dense\")"
   ]
  },
  {
   "cell_type": "code",
   "execution_count": null,
   "metadata": {},
   "outputs": [],
   "source": [
    "df_ranked.to_csv(\"results.csv\", index=False)"
   ]
  },
  {
   "cell_type": "code",
   "execution_count": null,
   "metadata": {},
   "outputs": [],
   "source": [
    "import seaborn as sns\n",
    "import matplotlib.pyplot as plt\n",
    "chart = plt.figure(figsize=(16,8))\n",
    "sns.barplot(x=df_ranked[\"Model\"],y=df_ranked[\"Topsis_rank\"])"
   ]
  }
 ],
 "metadata": {
  "language_info": {
   "name": "python"
  }
 },
 "nbformat": 4,
 "nbformat_minor": 2
}
